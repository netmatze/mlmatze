{
  "nbformat": 4,
  "nbformat_minor": 0,
  "metadata": {
    "colab": {
      "provenance": [],
      "authorship_tag": "ABX9TyM23yXHHdUrlFxmlC31H/Df",
      "include_colab_link": true
    },
    "kernelspec": {
      "name": "python3",
      "display_name": "Python 3"
    },
    "language_info": {
      "name": "python"
    }
  },
  "cells": [
    {
      "cell_type": "markdown",
      "metadata": {
        "id": "view-in-github",
        "colab_type": "text"
      },
      "source": [
        "<a href=\"https://colab.research.google.com/github/netmatze/mlmatze/blob/main/esrgan_to_increase_stable_diffusion_images_resolution.ipynb\" target=\"_parent\"><img src=\"https://colab.research.google.com/assets/colab-badge.svg\" alt=\"Open In Colab\"/></a>"
      ]
    },
    {
      "cell_type": "code",
      "execution_count": null,
      "metadata": {
        "id": "RTdNl2X6CQoQ"
      },
      "outputs": [],
      "source": [
        "!pip install --quiet --upgrade diffusers transformers accelerate mediapy triton scipy ftfy spacy==3.4.4\n",
        "!pip install -q xformers==0.0.16rc425\n",
        "!pip install mediapy"
      ]
    },
    {
      "cell_type": "markdown",
      "source": [
        "### increase image resolution"
      ],
      "metadata": {
        "id": "9VIcpMCCCtxF"
      }
    },
    {
      "cell_type": "code",
      "source": [
        "#list_of_selected_images = [5,6,7,11]\n",
        "#list_of_selected_images = [1,2,3,7,8]\n",
        "#list_of_selected_images = [2,3,4,5]\n",
        "list_of_selected_images = [6,7,13,14]"
      ],
      "metadata": {
        "id": "rmbVfu-UC-tJ"
      },
      "execution_count": null,
      "outputs": []
    },
    {
      "cell_type": "code",
      "source": [
        "# from diffusers import PNDMScheduler, DDIMScheduler, LMSDiscreteScheduler, EulerDiscreteScheduler, DPMSolverMultistepScheduler\n",
        "# import mediapy as media\n",
        "# import torch\n",
        "# from diffusers import StableDiffusionPipeline\n",
        "# import random\n",
        "# from PIL import Image\n",
        "# import matplotlib.pyplot as plt\n",
        "\n",
        "combined_list_images = []\n",
        "combined_list_generated_models = []\n",
        "combined_list_prompts = []\n",
        "combined_list_generated_tags = []\n",
        "\n",
        "def null_safety(images, **kwargs):\n",
        "    return images, False\n",
        "\n",
        "def flatten(listItems):\n",
        "    return [item for sublist in listItems for item in sublist]\n",
        "\n",
        "model_ids = [\n",
        "              \"stabilityai/stable-diffusion-2-1\",\n",
        "              # \"runwayml/stable-diffusion-v1-5\",\n",
        "              #\"dreamlike-art/dreamlike-photoreal-2.0\",\n",
        "              \"dreamlike-art/dreamlike-anime-1.0\",\n",
        "              \"dreamlike-art/dreamlike-diffusion-1.0\",\n",
        "              # \"hakurei/waifu-diffusion\",\n",
        "              # \"andite/anything-v4.0\",\n",
        "              #\"ckpt/anything-v4.5\",\n",
        "              \"Joeythemonster/anything-midjourney-v-4-1\",\n",
        "              #\"prompthero/openjourney\",\n",
        "              # \"andite/cutesexyrobutts-diffusion\",\n",
        "              #\"hassanblend/HassanBlend1.5.1.2\",\n",
        "              #\"OfficialUnstableDiffusion/UnstablePhotoRealv.5\",\n",
        "              #\"ImNoOne/f222-inpainting-diffusers\",\n",
        "              #\"SY573M404/f222-diffusers\"\n",
        "            ]\n",
        "model_index = [False, False, True, True, True, True, True, True]\n",
        "device = \"cuda\"\n",
        "\n",
        "num_images = 4\n",
        "#seed = random.randint(0, 2147483647)\n",
        "\n",
        "#prompt = \"girl, aqua eyes, yellow baseball cap, with a cute cat\"\n",
        "#prompt = \"best quality, girl, blonde hair, pink eyes with a cute little dog\"\n",
        "#prompt = \"masterpiece, best quality, sunnflowers and orange roses at the moon\"\n",
        "#prompt = \"james rizzi style easter bunny rides with bike to the moon to hide easter eggs\"\n",
        "#prompt = \"best quality, a pattern of different meadow flowers and daisy\"\n",
        "#prompt = \"best quality, a cat with a hat riding a horse\"\n",
        "\n",
        "ideas = [\n",
        "      \"timeseries, prediction, stocks, machine learning, model arima, deep learning, high detail, neon design, intricate detail\",\n",
        "      \"regularization, explaination, ridge, lasso, regression, high detail, intricate detail, cinematic lighting, metal design\",\n",
        "      #\"sugar cube, cup of tea, sugar, diffusing, high detail, realistic, intricate detail\",\n",
        "      #\"person, walking, misty forest, trees, plants, high detail, realistic, intricate detail\",\n",
        "      #\"drop of oil on water, oil diffusing, colorful pattern, high detail, realistic, intricate detail\",\n",
        "      # \"woman, knitting, wool, outside, colorfull pattern, high detail, realistic, intricate detail\",\n",
        "      # \"strumming a guitar, sound, air, diffusing, colorful pattern, high detail, realistic, intricate detail\",\n",
        "      # \"bubbles in a park, bubbles diffusing, floating away, colorful pattern, high detail, realistic, intricate detail\",\n",
        "#      \"laptop, VPN with a lock symbol, high detail, realistic, intricate detail,\",\n",
        "#      \"firewall, block unauthorized access, network, high detail, realistic, intricate detail\",\n",
        "#     \"young asian woman, highly detailed, green eyes, bathing in wool, knitting a pullover, realistic\",\n",
        "#     \"Anthropomorphic blue owl, highly detailed, big green eyes, portrait, detailed armor, unreal engine, cinematic lighting, metal design, 8k, octane render, realistic, redshift render\",\n",
        "#     \"enraged warrior, monsterlike armor, living armor, full body portrait, organic armor, high detail, intricate detail, mdjrny-v4 style\",\n",
        "#     \"young black woman, nude, big breasts, green eyes, high detail, intricate detail\",\n",
        "#      \"polar bear, flying in space, moon in the background, sun on the right side with bright red glow, everything neon light like\",\n",
        "#      \"polar bear, padlock and key, binary code background, network, high detail, realistic, intricate detail, mdjrny-v4 style\",\n",
        "#      \"cat, virtual private network, VPN, smartphone, high detail, realistic, intricate detail\",\n",
        "#      \"keyboard, python coding language in the background, high detail, realistic, intricate detail\",\n",
        "#      \"blue owl, highly detailed, big green eyes, portrait, detailed armor, cinematic lighting, metal design, 8k, octane render, realistic, redshift render\"\n",
        "]\n",
        "\n",
        "# ideas = [\n",
        "#     # \"young asian woman, nude, big breasts, green eyes, realistic, high detail, intricate detail, full body portrait\",\n",
        "#     # \"nude blond girl, sitting at a couch, nude, open pussy, big breasts, high detail, realistic, intricate detail, full body portrait\",\n",
        "#     \"nude red head girl, standing near a tree, nude, finger in open pussy, small breasts, high detail, realistic, intricate detail, full body portrait\"\n",
        "#     \"nude man, fucking, nude girl, open pussy, big tits, high detail, realistic, intricate detail, \"\n",
        "# ]\n",
        "\n",
        "tags = [\n",
        "     [\"woman\", \"cat\", \"blond hair\"],\n",
        "     [\"whiteboard\"],\n",
        "     [\"scanner\"],\n",
        "    # [\"sugar cube\", \"cup of tea\", \"sugar\", \"diffusing\"],\n",
        "    # [\"person\", \"walking\", \"misty forest\", \"trees\", \"plants\"],\n",
        "    # [\"drop of oil on water\", \"oil diffusing\", \"colorful pattern\"],\n",
        "    # [\"woman\", \"knitting\", \"wool\", \"colorful pattern\"],\n",
        "    # [\"guitar\", \"air\", \"diffusing\", \"air\"],\n",
        "    # [\"bubbles\", \"diffusing\", \"floating\", \"colorful pattern\"],\n",
        "    # [\"chemistry\", \"science\", \"laboratory\", \"diffusion gradient\", \"flask\"],\n",
        "    # [\"perfume\", \"cologne\", \"fragrance\", \"diffusion\", \"room\"],\n",
        "    # [\"breath\", \"water vapor\", \"diffusion\", \"cold weather\", \"condensation\"],\n",
        "    # [\"smoke\", \"incense\", \"candle\", \"diffusion\", \"atmosphere\"],\n",
        "    # [\"cooking\", \"soup\", \"aroma\", \"diffusion\", \"kitchen\"],\n",
        "    # [\"soap bubbles\", \"diffusion\", \"pattern\", \"beauty\", \"fun\"],\n",
        "    # [\"cityscape\", \"smog\", \"fog\", \"diffusion\", \"atmosphere\"],\n",
        "    # [\"air freshener\", \"scent\", \"diffusion\", \"room\", \"fresh\"],\n",
        "    # [\"flower\", \"scent\", \"aroma\", \"diffusion\", \"nature\"],\n",
        "    # [\"dandelion\", \"seeds\", \"diffusion\", \"nature\", \"beauty\"],\n",
        "    # [\"coffee\", \"milk\", \"mixing\", \"beverage\", \"breakfast\"],\n",
        "    # [\"garden\", \"hose\", \"watering\", \"lawn\", \"irrigation\"],\n",
        "    # [\"music\", \"speaker\", \"sound waves\", \"vibration\", \"entertainment\"],\n",
        "    # [\"fan\", \"cooling\", \"air currents\", \"summer\", \"heat\"],\n",
        "    # [\"dominoes\", \"falling\", \"sequence\", \"game\", \"entertainment\"],\n",
        "    # [\"cooking\", \"soup\", \"stirring\", \"ingredients\", \"comfort food\"],\n",
        "    # [\"wind chime\", \"breeze\", \"sound waves\", \"relaxation\", \"decoration\"],\n",
        "    # [\"waterfall\", \"cascade\", \"rocks\", \"pool\", \"nature\"],\n",
        "\n",
        "    # [\"dye\", \"water\", \"color\", \"diffusion\", \"chemistry\"],\n",
        "    # [\"eyes\", \"iris\", \"dilation\", \"light\", \"vision\"],\n",
        "    # [\"solar panel\", \"sunlight\", \"energy\", \"diffusion\", \"renewable\"],\n",
        "    # [\"wax\", \"mold\", \"filling\", \"diffusion\", \"craft\"],\n",
        "    # [\"face\", \"mist\", \"essential oils\", \"diffusion\", \"aromatherapy\"],\n",
        "    # [\"smoke bomb\", \"smoke\", \"colorful\", \"diffusion\", \"outdoors\"],\n",
        "    # [\"city street\", \"crowded\", \"traffic\", \"diffusion\", \"urban\"],\n",
        "    # [\"glitter\", \"sparkle\", \"airborne\", \"diffusion\", \"celebration\"],\n",
        "    # [\"stress ball\", \"pressure\", \"relief\", \"diffusion\", \"handheld\"],\n",
        "    # [\"ice cream cone\", \"melting\", \"dripping\", \"diffusion\", \"dessert\"],\n",
        "    # [\"sugar cube\", \"tea\", \"sweetening\", \"diffusion\", \"beverage\"],\n",
        "    # [\"ear\", \"sound waves\", \"hearing\", \"diffusion\", \"anatomy\"],\n",
        "    # [\"forest\", \"misty\", \"atmosphere\", \"diffusion\", \"nature\"],\n",
        "    # [\"oil\", \"water\", \"pattern\", \"diffusion\", \"art\"],\n",
        "    # [\"guitar\", \"strumming\", \"music\", \"diffusion\", \"entertainment\"],\n",
        "    # [\"bubbles\", \"floating\", \"playful\", \"diffusion\", \"childhood\"],\n",
        "    # [\"tomato\", \"juices\", \"cutting board\", \"diffusion\", \"cooking\"],\n",
        "    # [\"feet\", \"sandy beach\", \"walking\", \"diffusion\", \"vacation\"]\n",
        "    # [\"network scanning\", \"vulnerability assessment\", \"penetration testing\", \"ethical hacking\", \"cybersecurity\"],\n",
        "    # [\"firewall\", \"network security\", \"data protection\", \"information security\", \"internet security\"],\n",
        "    # [\"animal\", \"bear\", \"polar bear\", \"snow\", \"moon\", \"neon\"],\n",
        "    # [\"animal\", \"bear\", \"polar bear\", \"padlock\", \"key\", \"neon\"],\n",
        "    # [\"animal\", \"cat\", \"virtual private network\", \"VPN\", \"smartphone\"],\n",
        "    # [\"keyboard\", \"python\", \"coding\", \"language\"],\n",
        "    # [\"animal\", \"owl\", \"portrait\", \"green eyes\"],\n",
        "    ]"
      ],
      "metadata": {
        "id": "LE2gI1AVWWfe"
      },
      "execution_count": null,
      "outputs": []
    },
    {
      "cell_type": "code",
      "source": [
        "#list_of_selected_images = [5,6,7,11,14,16,18,19]\n",
        "#list_of_selected_images = [1,2,3,5,13,14]\n",
        "#list_of_selected_images = [1,2,3,7,8]\n",
        "#list_of_selected_images = [2,3,4,5,6,7,13,14]\n",
        "#list_of_selected_images = [2,3,4,5]\n",
        "list_of_selected_images = [15]"
      ],
      "metadata": {
        "id": "sWIRdfmTCgu5"
      },
      "execution_count": null,
      "outputs": []
    },
    {
      "cell_type": "code",
      "source": [
        "for index, promptvalue in enumerate(ideas):\n",
        "  prompt = promptvalue\n",
        "  tag = tags[index]\n",
        "  list_images = []\n",
        "  list_generated_models = []\n",
        "  num_images = 2\n",
        "  for index, model_id in enumerate(model_ids):\n",
        "    for number_images in range(num_images):\n",
        "      combined_list_generated_models.append(model_id)\n",
        "      combined_list_prompts.append(prompt)\n",
        "      combined_list_generated_tags.append(tag)\n",
        "\n",
        "print(combined_list_generated_models)\n",
        "print(combined_list_prompts)\n",
        "print(combined_list_generated_tags)"
      ],
      "metadata": {
        "colab": {
          "base_uri": "https://localhost:8080/"
        },
        "id": "XM7Wn3IVDFep",
        "outputId": "dd3e81a4-7ba1-4de6-9fe5-ff7e1f5c1918"
      },
      "execution_count": null,
      "outputs": [
        {
          "output_type": "stream",
          "name": "stdout",
          "text": [
            "['stabilityai/stable-diffusion-2-1', 'stabilityai/stable-diffusion-2-1', 'dreamlike-art/dreamlike-anime-1.0', 'dreamlike-art/dreamlike-anime-1.0', 'dreamlike-art/dreamlike-diffusion-1.0', 'dreamlike-art/dreamlike-diffusion-1.0', 'Joeythemonster/anything-midjourney-v-4-1', 'Joeythemonster/anything-midjourney-v-4-1', 'stabilityai/stable-diffusion-2-1', 'stabilityai/stable-diffusion-2-1', 'dreamlike-art/dreamlike-anime-1.0', 'dreamlike-art/dreamlike-anime-1.0', 'dreamlike-art/dreamlike-diffusion-1.0', 'dreamlike-art/dreamlike-diffusion-1.0', 'Joeythemonster/anything-midjourney-v-4-1', 'Joeythemonster/anything-midjourney-v-4-1', 'stabilityai/stable-diffusion-2-1', 'stabilityai/stable-diffusion-2-1', 'dreamlike-art/dreamlike-anime-1.0', 'dreamlike-art/dreamlike-anime-1.0', 'dreamlike-art/dreamlike-diffusion-1.0', 'dreamlike-art/dreamlike-diffusion-1.0', 'Joeythemonster/anything-midjourney-v-4-1', 'Joeythemonster/anything-midjourney-v-4-1', 'stabilityai/stable-diffusion-2-1', 'stabilityai/stable-diffusion-2-1', 'dreamlike-art/dreamlike-anime-1.0', 'dreamlike-art/dreamlike-anime-1.0', 'dreamlike-art/dreamlike-diffusion-1.0', 'dreamlike-art/dreamlike-diffusion-1.0', 'Joeythemonster/anything-midjourney-v-4-1', 'Joeythemonster/anything-midjourney-v-4-1', 'stabilityai/stable-diffusion-2-1', 'stabilityai/stable-diffusion-2-1', 'dreamlike-art/dreamlike-anime-1.0', 'dreamlike-art/dreamlike-anime-1.0', 'dreamlike-art/dreamlike-diffusion-1.0', 'dreamlike-art/dreamlike-diffusion-1.0', 'Joeythemonster/anything-midjourney-v-4-1', 'Joeythemonster/anything-midjourney-v-4-1', 'stabilityai/stable-diffusion-2-1', 'stabilityai/stable-diffusion-2-1', 'dreamlike-art/dreamlike-anime-1.0', 'dreamlike-art/dreamlike-anime-1.0', 'dreamlike-art/dreamlike-diffusion-1.0', 'dreamlike-art/dreamlike-diffusion-1.0', 'Joeythemonster/anything-midjourney-v-4-1', 'Joeythemonster/anything-midjourney-v-4-1', 'stabilityai/stable-diffusion-2-1', 'stabilityai/stable-diffusion-2-1', 'dreamlike-art/dreamlike-anime-1.0', 'dreamlike-art/dreamlike-anime-1.0', 'dreamlike-art/dreamlike-diffusion-1.0', 'dreamlike-art/dreamlike-diffusion-1.0', 'Joeythemonster/anything-midjourney-v-4-1', 'Joeythemonster/anything-midjourney-v-4-1', 'stabilityai/stable-diffusion-2-1', 'stabilityai/stable-diffusion-2-1', 'dreamlike-art/dreamlike-anime-1.0', 'dreamlike-art/dreamlike-anime-1.0', 'dreamlike-art/dreamlike-diffusion-1.0', 'dreamlike-art/dreamlike-diffusion-1.0', 'Joeythemonster/anything-midjourney-v-4-1', 'Joeythemonster/anything-midjourney-v-4-1']\n",
            "['timeseries, prediction, stocks, machine learning, model arima, deep learning, high detail, neon design, intricate detail', 'timeseries, prediction, stocks, machine learning, model arima, deep learning, high detail, neon design, intricate detail', 'timeseries, prediction, stocks, machine learning, model arima, deep learning, high detail, neon design, intricate detail', 'timeseries, prediction, stocks, machine learning, model arima, deep learning, high detail, neon design, intricate detail', 'timeseries, prediction, stocks, machine learning, model arima, deep learning, high detail, neon design, intricate detail', 'timeseries, prediction, stocks, machine learning, model arima, deep learning, high detail, neon design, intricate detail', 'timeseries, prediction, stocks, machine learning, model arima, deep learning, high detail, neon design, intricate detail', 'timeseries, prediction, stocks, machine learning, model arima, deep learning, high detail, neon design, intricate detail', 'regularization, explaination, ridge, lasso, regression, high detail, intricate detail, cinematic lighting, metal design', 'regularization, explaination, ridge, lasso, regression, high detail, intricate detail, cinematic lighting, metal design', 'regularization, explaination, ridge, lasso, regression, high detail, intricate detail, cinematic lighting, metal design', 'regularization, explaination, ridge, lasso, regression, high detail, intricate detail, cinematic lighting, metal design', 'regularization, explaination, ridge, lasso, regression, high detail, intricate detail, cinematic lighting, metal design', 'regularization, explaination, ridge, lasso, regression, high detail, intricate detail, cinematic lighting, metal design', 'regularization, explaination, ridge, lasso, regression, high detail, intricate detail, cinematic lighting, metal design', 'regularization, explaination, ridge, lasso, regression, high detail, intricate detail, cinematic lighting, metal design', 'timeseries, prediction, stocks, machine learning, model arima, deep learning, high detail, neon design, intricate detail', 'timeseries, prediction, stocks, machine learning, model arima, deep learning, high detail, neon design, intricate detail', 'timeseries, prediction, stocks, machine learning, model arima, deep learning, high detail, neon design, intricate detail', 'timeseries, prediction, stocks, machine learning, model arima, deep learning, high detail, neon design, intricate detail', 'timeseries, prediction, stocks, machine learning, model arima, deep learning, high detail, neon design, intricate detail', 'timeseries, prediction, stocks, machine learning, model arima, deep learning, high detail, neon design, intricate detail', 'timeseries, prediction, stocks, machine learning, model arima, deep learning, high detail, neon design, intricate detail', 'timeseries, prediction, stocks, machine learning, model arima, deep learning, high detail, neon design, intricate detail', 'regularization, explaination, ridge, lasso, regression, high detail, intricate detail, cinematic lighting, metal design', 'regularization, explaination, ridge, lasso, regression, high detail, intricate detail, cinematic lighting, metal design', 'regularization, explaination, ridge, lasso, regression, high detail, intricate detail, cinematic lighting, metal design', 'regularization, explaination, ridge, lasso, regression, high detail, intricate detail, cinematic lighting, metal design', 'regularization, explaination, ridge, lasso, regression, high detail, intricate detail, cinematic lighting, metal design', 'regularization, explaination, ridge, lasso, regression, high detail, intricate detail, cinematic lighting, metal design', 'regularization, explaination, ridge, lasso, regression, high detail, intricate detail, cinematic lighting, metal design', 'regularization, explaination, ridge, lasso, regression, high detail, intricate detail, cinematic lighting, metal design', 'timeseries, prediction, stocks, machine learning, model arima, deep learning, high detail, neon design, intricate detail', 'timeseries, prediction, stocks, machine learning, model arima, deep learning, high detail, neon design, intricate detail', 'timeseries, prediction, stocks, machine learning, model arima, deep learning, high detail, neon design, intricate detail', 'timeseries, prediction, stocks, machine learning, model arima, deep learning, high detail, neon design, intricate detail', 'timeseries, prediction, stocks, machine learning, model arima, deep learning, high detail, neon design, intricate detail', 'timeseries, prediction, stocks, machine learning, model arima, deep learning, high detail, neon design, intricate detail', 'timeseries, prediction, stocks, machine learning, model arima, deep learning, high detail, neon design, intricate detail', 'timeseries, prediction, stocks, machine learning, model arima, deep learning, high detail, neon design, intricate detail', 'regularization, explaination, ridge, lasso, regression, high detail, intricate detail, cinematic lighting, metal design', 'regularization, explaination, ridge, lasso, regression, high detail, intricate detail, cinematic lighting, metal design', 'regularization, explaination, ridge, lasso, regression, high detail, intricate detail, cinematic lighting, metal design', 'regularization, explaination, ridge, lasso, regression, high detail, intricate detail, cinematic lighting, metal design', 'regularization, explaination, ridge, lasso, regression, high detail, intricate detail, cinematic lighting, metal design', 'regularization, explaination, ridge, lasso, regression, high detail, intricate detail, cinematic lighting, metal design', 'regularization, explaination, ridge, lasso, regression, high detail, intricate detail, cinematic lighting, metal design', 'regularization, explaination, ridge, lasso, regression, high detail, intricate detail, cinematic lighting, metal design', 'timeseries, prediction, stocks, machine learning, model arima, deep learning, high detail, neon design, intricate detail', 'timeseries, prediction, stocks, machine learning, model arima, deep learning, high detail, neon design, intricate detail', 'timeseries, prediction, stocks, machine learning, model arima, deep learning, high detail, neon design, intricate detail', 'timeseries, prediction, stocks, machine learning, model arima, deep learning, high detail, neon design, intricate detail', 'timeseries, prediction, stocks, machine learning, model arima, deep learning, high detail, neon design, intricate detail', 'timeseries, prediction, stocks, machine learning, model arima, deep learning, high detail, neon design, intricate detail', 'timeseries, prediction, stocks, machine learning, model arima, deep learning, high detail, neon design, intricate detail', 'timeseries, prediction, stocks, machine learning, model arima, deep learning, high detail, neon design, intricate detail', 'regularization, explaination, ridge, lasso, regression, high detail, intricate detail, cinematic lighting, metal design', 'regularization, explaination, ridge, lasso, regression, high detail, intricate detail, cinematic lighting, metal design', 'regularization, explaination, ridge, lasso, regression, high detail, intricate detail, cinematic lighting, metal design', 'regularization, explaination, ridge, lasso, regression, high detail, intricate detail, cinematic lighting, metal design', 'regularization, explaination, ridge, lasso, regression, high detail, intricate detail, cinematic lighting, metal design', 'regularization, explaination, ridge, lasso, regression, high detail, intricate detail, cinematic lighting, metal design', 'regularization, explaination, ridge, lasso, regression, high detail, intricate detail, cinematic lighting, metal design', 'regularization, explaination, ridge, lasso, regression, high detail, intricate detail, cinematic lighting, metal design']\n",
            "[['woman', 'cat', 'blond hair'], ['woman', 'cat', 'blond hair'], ['woman', 'cat', 'blond hair'], ['woman', 'cat', 'blond hair'], ['woman', 'cat', 'blond hair'], ['woman', 'cat', 'blond hair'], ['woman', 'cat', 'blond hair'], ['woman', 'cat', 'blond hair'], ['whiteboard'], ['whiteboard'], ['whiteboard'], ['whiteboard'], ['whiteboard'], ['whiteboard'], ['whiteboard'], ['whiteboard'], ['woman', 'cat', 'blond hair'], ['woman', 'cat', 'blond hair'], ['woman', 'cat', 'blond hair'], ['woman', 'cat', 'blond hair'], ['woman', 'cat', 'blond hair'], ['woman', 'cat', 'blond hair'], ['woman', 'cat', 'blond hair'], ['woman', 'cat', 'blond hair'], ['whiteboard'], ['whiteboard'], ['whiteboard'], ['whiteboard'], ['whiteboard'], ['whiteboard'], ['whiteboard'], ['whiteboard'], ['woman', 'cat', 'blond hair'], ['woman', 'cat', 'blond hair'], ['woman', 'cat', 'blond hair'], ['woman', 'cat', 'blond hair'], ['woman', 'cat', 'blond hair'], ['woman', 'cat', 'blond hair'], ['woman', 'cat', 'blond hair'], ['woman', 'cat', 'blond hair'], ['whiteboard'], ['whiteboard'], ['whiteboard'], ['whiteboard'], ['whiteboard'], ['whiteboard'], ['whiteboard'], ['whiteboard'], ['woman', 'cat', 'blond hair'], ['woman', 'cat', 'blond hair'], ['woman', 'cat', 'blond hair'], ['woman', 'cat', 'blond hair'], ['woman', 'cat', 'blond hair'], ['woman', 'cat', 'blond hair'], ['woman', 'cat', 'blond hair'], ['woman', 'cat', 'blond hair'], ['whiteboard'], ['whiteboard'], ['whiteboard'], ['whiteboard'], ['whiteboard'], ['whiteboard'], ['whiteboard'], ['whiteboard']]\n"
          ]
        }
      ]
    },
    {
      "cell_type": "code",
      "source": [
        "import os\n",
        "import time\n",
        "from PIL import Image\n",
        "import numpy as np\n",
        "import tensorflow as tf\n",
        "import tensorflow_hub as hub\n",
        "import matplotlib.pyplot as plt\n",
        "os.environ[\"TFHUB_DOWNLOAD_PROGRESS\"] = \"True\"\n",
        "\n",
        "SAVED_MODEL_PATH = \"https://tfhub.dev/captain-pool/esrgan-tf2/1\"\n",
        "model = hub.load(SAVED_MODEL_PATH)\n",
        "\n",
        "def preprocess_image(image_path):\n",
        "  \"\"\" Loads image from path and preprocesses to make it model ready\n",
        "      Args:\n",
        "        image_path: Path to the image file\n",
        "  \"\"\"\n",
        "  hr_image = tf.image.decode_image(tf.io.read_file(image_path))\n",
        "  # If PNG, remove the alpha channel. The model only supports\n",
        "  # images with 3 color channels.\n",
        "  if hr_image.shape[-1] == 4:\n",
        "    hr_image = hr_image[...,:-1]\n",
        "  hr_size = (tf.convert_to_tensor(hr_image.shape[:-1]) // 4) * 4\n",
        "  hr_image = tf.image.crop_to_bounding_box(hr_image, 0, 0, hr_size[0], hr_size[1])\n",
        "  hr_image = tf.cast(hr_image, tf.float32)\n",
        "  return tf.expand_dims(hr_image, 0)\n",
        "\n",
        "def generate_image(image):\n",
        "  \"\"\"\n",
        "    Saves unscaled Tensor Images.\n",
        "    Args:\n",
        "      image: 3D image tensor. [height, width, channels]\n",
        "      filename: Name of the file to save.\n",
        "  \"\"\"\n",
        "  if not isinstance(image, Image.Image):\n",
        "    image = tf.clip_by_value(image, 0, 255)\n",
        "    image = Image.fromarray(tf.cast(image, tf.uint8).numpy())\n",
        "    print(\"Generated Image .jpg\")\n",
        "  return image\n",
        "\n",
        "%matplotlib inline\n",
        "def plot_image(image, title=\"\"):\n",
        "  \"\"\"\n",
        "    Plots images from image tensors.\n",
        "    Args:\n",
        "      image: 3D image tensor. [height, width, channels].\n",
        "      title: Title to display in the plot.\n",
        "  \"\"\"\n",
        "  image = np.asarray(image)\n",
        "  image = tf.clip_by_value(image, 0, 255)\n",
        "  image = Image.fromarray(tf.cast(image, tf.uint8).numpy())\n",
        "  plt.imshow(image)\n",
        "  plt.axis(\"off\")\n",
        "  plt.title(title)\n",
        "\n",
        "from google.colab import files\n",
        "\n",
        "for i in list_of_selected_images:\n",
        "  selected_image_path = f\"{i}.png\"\n",
        "  selected_image = preprocess_image(selected_image_path)\n",
        "  print(selected_image.shape)\n",
        "  # plot_image(tf.squeeze(selected_image), title=f\"Original Image - {i}.png\")\n",
        "  start = time.time()\n",
        "  print(type(selected_image))\n",
        "  selected_super_image = model(selected_image)\n",
        "  selected_super_image = tf.squeeze(selected_super_image)\n",
        "  print('Time taken to complete process: %f'%(time.time() - start))\n",
        "  # plot_image(tf.squeeze(selected_super_image),f'Super Resolution - {i}.png')\n",
        "\n",
        "  prompt = combined_list_prompts[i - 1]\n",
        "  model_id = combined_list_generated_models[i - 1]\n",
        "  tag_values = combined_list_generated_tags[i - 1]\n",
        "\n",
        "  download_image = generate_image(selected_super_image)\n",
        "  download_image.save(f\"{i}_{prompt}_{tag_values}.jpg\")\n",
        "  files.download(f'{i}_{prompt}_{tag_values}.jpg')"
      ],
      "metadata": {
        "colab": {
          "base_uri": "https://localhost:8080/",
          "height": 86
        },
        "id": "B39mULZ3DHgX",
        "outputId": "f0429d86-a207-4176-a919-05c9e51aadbc"
      },
      "execution_count": null,
      "outputs": [
        {
          "output_type": "stream",
          "name": "stdout",
          "text": [
            "(1, 768, 768, 3)\n",
            "<class 'tensorflow.python.framework.ops.EagerTensor'>\n",
            "Time taken to complete process: 169.478286\n",
            "Generated Image .jpg\n"
          ]
        },
        {
          "output_type": "display_data",
          "data": {
            "text/plain": [
              "<IPython.core.display.Javascript object>"
            ],
            "application/javascript": [
              "\n",
              "    async function download(id, filename, size) {\n",
              "      if (!google.colab.kernel.accessAllowed) {\n",
              "        return;\n",
              "      }\n",
              "      const div = document.createElement('div');\n",
              "      const label = document.createElement('label');\n",
              "      label.textContent = `Downloading \"${filename}\": `;\n",
              "      div.appendChild(label);\n",
              "      const progress = document.createElement('progress');\n",
              "      progress.max = size;\n",
              "      div.appendChild(progress);\n",
              "      document.body.appendChild(div);\n",
              "\n",
              "      const buffers = [];\n",
              "      let downloaded = 0;\n",
              "\n",
              "      const channel = await google.colab.kernel.comms.open(id);\n",
              "      // Send a message to notify the kernel that we're ready.\n",
              "      channel.send({})\n",
              "\n",
              "      for await (const message of channel.messages) {\n",
              "        // Send a message to notify the kernel that we're ready.\n",
              "        channel.send({})\n",
              "        if (message.buffers) {\n",
              "          for (const buffer of message.buffers) {\n",
              "            buffers.push(buffer);\n",
              "            downloaded += buffer.byteLength;\n",
              "            progress.value = downloaded;\n",
              "          }\n",
              "        }\n",
              "      }\n",
              "      const blob = new Blob(buffers, {type: 'application/binary'});\n",
              "      const a = document.createElement('a');\n",
              "      a.href = window.URL.createObjectURL(blob);\n",
              "      a.download = filename;\n",
              "      div.appendChild(a);\n",
              "      a.click();\n",
              "      div.remove();\n",
              "    }\n",
              "  "
            ]
          },
          "metadata": {}
        },
        {
          "output_type": "display_data",
          "data": {
            "text/plain": [
              "<IPython.core.display.Javascript object>"
            ],
            "application/javascript": [
              "download(\"download_30959366-53b3-43e5-a728-e3a55a93d0ca\", \"15_regularization, explaination, ridge, lasso, regression, high detail, intricate detail, cinematic lighting, metal design_['whiteboard'].jpg\", 1779627)"
            ]
          },
          "metadata": {}
        }
      ]
    },
    {
      "cell_type": "code",
      "source": [],
      "metadata": {
        "id": "BJ3-5Qa1DLyn"
      },
      "execution_count": null,
      "outputs": []
    }
  ]
}